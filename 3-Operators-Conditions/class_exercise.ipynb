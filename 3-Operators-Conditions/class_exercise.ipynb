{
 "cells": [
  {
   "cell_type": "code",
   "execution_count": 29,
   "id": "49b79ad1-70f2-4a55-a790-763a5def24db",
   "metadata": {},
   "outputs": [],
   "source": [
    "a=\"hello, how are you today?\""
   ]
  },
  {
   "cell_type": "code",
   "execution_count": 30,
   "id": "dc1e53bc-c15e-41a1-b522-e228965ef6ef",
   "metadata": {},
   "outputs": [
    {
     "name": "stdout",
     "output_type": "stream",
     "text": [
      "hello, how are you today?\n"
     ]
    }
   ],
   "source": [
    "print(a)"
   ]
  },
  {
   "cell_type": "code",
   "execution_count": 31,
   "id": "c7473506-add4-4484-afdc-393e4728aaae",
   "metadata": {},
   "outputs": [
    {
     "data": {
      "text/plain": [
       "25"
      ]
     },
     "execution_count": 31,
     "metadata": {},
     "output_type": "execute_result"
    }
   ],
   "source": [
    "len(a)"
   ]
  },
  {
   "cell_type": "code",
   "execution_count": 32,
   "id": "a1ec304c-c3df-4ae9-9f14-caab3af4033c",
   "metadata": {},
   "outputs": [
    {
     "data": {
      "text/plain": [
       "','"
      ]
     },
     "execution_count": 32,
     "metadata": {},
     "output_type": "execute_result"
    }
   ],
   "source": [
    "a[5]"
   ]
  },
  {
   "cell_type": "code",
   "execution_count": 3,
   "id": "3cc56266-cfef-4572-91d7-fd63eba8f6a9",
   "metadata": {},
   "outputs": [
    {
     "name": "stdout",
     "output_type": "stream",
     "text": [
      "hello, how are you today?\n"
     ]
    }
   ],
   "source": [
    "print(\"hello, how are you today?\")"
   ]
  },
  {
   "cell_type": "code",
   "execution_count": 4,
   "id": "c69b25aa-f35d-4ade-9d1e-a83711657c8d",
   "metadata": {},
   "outputs": [],
   "source": [
    "variable1= 25\n",
    "variable2= \"Beth\"\n",
    "variable3= True"
   ]
  },
  {
   "cell_type": "code",
   "execution_count": 5,
   "id": "a2478780-ca8a-41ca-9f01-49f10b80beac",
   "metadata": {},
   "outputs": [],
   "source": [
    "variable4= \"25\""
   ]
  },
  {
   "cell_type": "code",
   "execution_count": 7,
   "id": "5003cb14-011d-48a1-8c20-1b1170a64942",
   "metadata": {},
   "outputs": [
    {
     "name": "stdout",
     "output_type": "stream",
     "text": [
      "Beth\n"
     ]
    }
   ],
   "source": [
    "print(variable2)"
   ]
  },
  {
   "cell_type": "code",
   "execution_count": 10,
   "id": "35ff7674-bf3f-48aa-b21f-28f8d2f7e920",
   "metadata": {},
   "outputs": [
    {
     "data": {
      "text/plain": [
       "bool"
      ]
     },
     "execution_count": 10,
     "metadata": {},
     "output_type": "execute_result"
    }
   ],
   "source": [
    "type(variable3)"
   ]
  },
  {
   "cell_type": "code",
   "execution_count": 11,
   "id": "7aaff130-4a2b-44dc-bbce-8f5264ef3bab",
   "metadata": {},
   "outputs": [
    {
     "data": {
      "text/plain": [
       "float"
      ]
     },
     "execution_count": 11,
     "metadata": {},
     "output_type": "execute_result"
    }
   ],
   "source": [
    "variable5= 3.4\n",
    "type(variable5)"
   ]
  },
  {
   "cell_type": "code",
   "execution_count": 20,
   "id": "3286925b-4332-43bd-94bf-1b970bd6847c",
   "metadata": {},
   "outputs": [
    {
     "name": "stdout",
     "output_type": "stream",
     "text": [
      "[25, 'Beth', True, 3.2, 'hello', 'Ivan', 34, False]\n"
     ]
    }
   ],
   "source": [
    "my_list= [25, \"Beth\", True, 3.2, \"hello\", \"Ivan\", 34, False]\n",
    "print(my_list)"
   ]
  },
  {
   "cell_type": "code",
   "execution_count": 13,
   "id": "7f9919e3-45eb-48e9-80b9-4aa66dcf5082",
   "metadata": {},
   "outputs": [
    {
     "data": {
      "text/plain": [
       "25"
      ]
     },
     "execution_count": 13,
     "metadata": {},
     "output_type": "execute_result"
    }
   ],
   "source": [
    "my_list[0]"
   ]
  },
  {
   "cell_type": "code",
   "execution_count": 14,
   "id": "3adb5d1e-bde1-4b83-b332-c3976951c16f",
   "metadata": {},
   "outputs": [
    {
     "data": {
      "text/plain": [
       "True"
      ]
     },
     "execution_count": 14,
     "metadata": {},
     "output_type": "execute_result"
    }
   ],
   "source": [
    "my_list[2]"
   ]
  },
  {
   "cell_type": "code",
   "execution_count": 21,
   "id": "c422aa95-0125-4ff9-bb77-a5e9e586c8b1",
   "metadata": {},
   "outputs": [
    {
     "data": {
      "text/plain": [
       "8"
      ]
     },
     "execution_count": 21,
     "metadata": {},
     "output_type": "execute_result"
    }
   ],
   "source": [
    "len(my_list)"
   ]
  },
  {
   "cell_type": "code",
   "execution_count": 25,
   "id": "3f9dd654-c760-401b-924b-192f9d8ee1e8",
   "metadata": {},
   "outputs": [],
   "source": [
    "a=30"
   ]
  },
  {
   "cell_type": "code",
   "execution_count": 27,
   "id": "a7ef230a-26b5-4c0f-b39e-cbcb6c09dd13",
   "metadata": {},
   "outputs": [
    {
     "name": "stdout",
     "output_type": "stream",
     "text": [
      "30\n"
     ]
    }
   ],
   "source": [
    "print(a)"
   ]
  },
  {
   "cell_type": "code",
   "execution_count": 33,
   "id": "18c6ce01-bcce-4236-86ba-42cc201484f6",
   "metadata": {},
   "outputs": [],
   "source": [
    "a = 21\n",
    "b = 10\n",
    "c = 0"
   ]
  },
  {
   "cell_type": "code",
   "execution_count": 34,
   "id": "41740851-3bbb-493f-b02d-a90820fe6553",
   "metadata": {},
   "outputs": [
    {
     "data": {
      "text/plain": [
       "31"
      ]
     },
     "execution_count": 34,
     "metadata": {},
     "output_type": "execute_result"
    }
   ],
   "source": [
    "c = a + b\n",
    "c"
   ]
  },
  {
   "cell_type": "code",
   "execution_count": 35,
   "id": "7008f332-e670-41a6-9e1b-d179a76491af",
   "metadata": {},
   "outputs": [
    {
     "data": {
      "text/plain": [
       "11"
      ]
     },
     "execution_count": 35,
     "metadata": {},
     "output_type": "execute_result"
    }
   ],
   "source": [
    "c =a - b\n",
    "c"
   ]
  },
  {
   "cell_type": "code",
   "execution_count": 36,
   "id": "cf662b11-abf5-4a5e-ade2-554648aadc11",
   "metadata": {},
   "outputs": [
    {
     "data": {
      "text/plain": [
       "210"
      ]
     },
     "execution_count": 36,
     "metadata": {},
     "output_type": "execute_result"
    }
   ],
   "source": [
    "c = a * b\n",
    "c"
   ]
  },
  {
   "cell_type": "code",
   "execution_count": 37,
   "id": "82ac45de-4a00-4d6d-9c8f-1a1eb6e3dce5",
   "metadata": {},
   "outputs": [
    {
     "data": {
      "text/plain": [
       "2.1"
      ]
     },
     "execution_count": 37,
     "metadata": {},
     "output_type": "execute_result"
    }
   ],
   "source": [
    "c= a / b\n",
    "c"
   ]
  },
  {
   "cell_type": "code",
   "execution_count": 38,
   "id": "cebac357-a93b-40f3-889e-967cc82965a8",
   "metadata": {},
   "outputs": [
    {
     "data": {
      "text/plain": [
       "float"
      ]
     },
     "execution_count": 38,
     "metadata": {},
     "output_type": "execute_result"
    }
   ],
   "source": [
    "type(c)"
   ]
  },
  {
   "cell_type": "code",
   "execution_count": 39,
   "id": "51e2e286-0456-4b1f-bf0d-7d5fcc94d24e",
   "metadata": {},
   "outputs": [],
   "source": [
    "a=2\n",
    "b=3\n"
   ]
  },
  {
   "cell_type": "code",
   "execution_count": 40,
   "id": "87d469f4-9f46-4703-9849-8a170be9d535",
   "metadata": {},
   "outputs": [
    {
     "data": {
      "text/plain": [
       "6"
      ]
     },
     "execution_count": 40,
     "metadata": {},
     "output_type": "execute_result"
    }
   ],
   "source": [
    "a*b"
   ]
  },
  {
   "cell_type": "code",
   "execution_count": 42,
   "id": "c9569515-db87-4fc4-b971-7767fe64abc4",
   "metadata": {},
   "outputs": [],
   "source": [
    "c=a**b  # 2*2*2   # a*a*a"
   ]
  },
  {
   "cell_type": "code",
   "execution_count": 44,
   "id": "4c695622-5119-49c8-bdc0-98716a5e406d",
   "metadata": {},
   "outputs": [
    {
     "data": {
      "text/plain": [
       "0"
      ]
     },
     "execution_count": 44,
     "metadata": {},
     "output_type": "execute_result"
    }
   ],
   "source": [
    "c%a"
   ]
  },
  {
   "cell_type": "code",
   "execution_count": 46,
   "id": "6f6c1971-dfd3-4477-9980-30477c418ad1",
   "metadata": {},
   "outputs": [
    {
     "data": {
      "text/plain": [
       "1"
      ]
     },
     "execution_count": 46,
     "metadata": {},
     "output_type": "execute_result"
    }
   ],
   "source": [
    "9%2"
   ]
  },
  {
   "cell_type": "code",
   "execution_count": 57,
   "id": "e3e7c7c7-81cb-41bb-8b14-1373f26d6be0",
   "metadata": {},
   "outputs": [
    {
     "data": {
      "text/plain": [
       "11"
      ]
     },
     "execution_count": 57,
     "metadata": {},
     "output_type": "execute_result"
    }
   ],
   "source": [
    "a=\"6\"\n",
    "b=5\n",
    "c=b+int(a)\n",
    "c"
   ]
  },
  {
   "cell_type": "code",
   "execution_count": 58,
   "id": "7c77df23-af5c-41a9-a774-e561af66eb62",
   "metadata": {},
   "outputs": [
    {
     "data": {
      "text/plain": [
       "'56'"
      ]
     },
     "execution_count": 58,
     "metadata": {},
     "output_type": "execute_result"
    }
   ],
   "source": [
    "a=\"6\"\n",
    "b=5\n",
    "c=str(b)+a\n",
    "c"
   ]
  },
  {
   "cell_type": "code",
   "execution_count": 56,
   "id": "2df1e68e-3cfc-4eef-9213-ac599f53b7f8",
   "metadata": {},
   "outputs": [
    {
     "name": "stdout",
     "output_type": "stream",
     "text": [
      "2 string 15\n"
     ]
    }
   ],
   "source": [
    "a=\"2\"  #string\n",
    "b= 5\n",
    "print(a+\" string\",b+10)"
   ]
  },
  {
   "cell_type": "code",
   "execution_count": 52,
   "id": "c9aea33c-6c72-45c6-9396-ada28f53078a",
   "metadata": {},
   "outputs": [
    {
     "ename": "TypeError",
     "evalue": "can only concatenate str (not \"int\") to str",
     "output_type": "error",
     "traceback": [
      "\u001b[0;31m---------------------------------------------------------------------------\u001b[0m",
      "\u001b[0;31mTypeError\u001b[0m                                 Traceback (most recent call last)",
      "Input \u001b[0;32mIn [52]\u001b[0m, in \u001b[0;36m<cell line: 1>\u001b[0;34m()\u001b[0m\n\u001b[0;32m----> 1\u001b[0m \u001b[43mc\u001b[49m\u001b[38;5;241;43m+\u001b[39;49m\u001b[38;5;241;43m2\u001b[39;49m\n",
      "\u001b[0;31mTypeError\u001b[0m: can only concatenate str (not \"int\") to str"
     ]
    }
   ],
   "source": [
    "c+2"
   ]
  },
  {
   "cell_type": "code",
   "execution_count": 50,
   "id": "271e6bfb-17b9-473a-9bea-73f91b5fa958",
   "metadata": {},
   "outputs": [
    {
     "data": {
      "text/plain": [
       "'Beth Monika hi'"
      ]
     },
     "execution_count": 50,
     "metadata": {},
     "output_type": "execute_result"
    }
   ],
   "source": [
    "a= \"Beth\"\n",
    "b= \"Monika\"\n",
    "c= a+\" \"+b+\" \"+\"hi\"\n",
    "c"
   ]
  },
  {
   "cell_type": "code",
   "execution_count": null,
   "id": "15dc7394-6e29-438b-9584-120dc17f18f0",
   "metadata": {},
   "outputs": [],
   "source": [
    "a=50\n",
    "b=7"
   ]
  },
  {
   "cell_type": "code",
   "execution_count": null,
   "id": "bad7fdd7",
   "metadata": {},
   "outputs": [],
   "source": [
    "if a>b: #condition 1\n",
    "    print(f\"{a} is greater than {b}\") #statement 1\n",
    "elif b>a: #condition 2\n",
    "    print(f\"{b} is greater than {a}\") #statement 2\n",
    "else: #when above conditons are False\n",
    "    print(f\"{a} is equal to {b}\") #statement of else"
   ]
  },
  {
   "cell_type": "code",
   "execution_count": null,
   "id": "65f78b32",
   "metadata": {},
   "outputs": [],
   "source": [
    "a=5\n",
    "a%2"
   ]
  },
  {
   "cell_type": "code",
   "execution_count": null,
   "id": "88c00085",
   "metadata": {},
   "outputs": [],
   "source": [
    "if a%2==1:\n",
    "    print(f\"{a} is a odd number\")\n",
    "elif a%2==0:\n",
    "    print(f\"{a} is an even number\")"
   ]
  },
  {
   "cell_type": "code",
   "execution_count": null,
   "id": "88cb0139",
   "metadata": {},
   "outputs": [],
   "source": [
    "fruits= [\"banana\", \"watermelon\"]\n",
    "vegatables = [\"broccoli\", \"carots\", \"onions\"]\n",
    "\n",
    "if \"apple\" in fruits:\n",
    "    print(\"apple is a fruit\")\n",
    "elif \"apple\" in vegatables:\n",
    "    print(\"apple is a vegatable\")\n",
    "else:\n",
    "    print(\"apple is not a fruit not a vegatable\")"
   ]
  },
  {
   "cell_type": "code",
   "execution_count": null,
   "id": "8b3da5de",
   "metadata": {},
   "outputs": [],
   "source": [
    "degree = int(input('Enter degrees (c):\\n'))\n",
    "\n",
    "if degree < 0:\n",
    "    print(\"It's cold, stay at home\")\n",
    "elif degree < 20:\n",
    "    print(\"Put a jacket on\")\n",
    "else:\n",
    "    print(\"It's a good weather for a T-shirt\")"
   ]
  }
 ],
 "metadata": {
  "kernelspec": {
   "display_name": "Python 3 (ipykernel)",
   "language": "python",
   "name": "python3"
  },
  "language_info": {
   "codemirror_mode": {
    "name": "ipython",
    "version": 3
   },
   "file_extension": ".py",
   "mimetype": "text/x-python",
   "name": "python",
   "nbconvert_exporter": "python",
   "pygments_lexer": "ipython3",
   "version": "3.9.7"
  }
 },
 "nbformat": 4,
 "nbformat_minor": 5
}
