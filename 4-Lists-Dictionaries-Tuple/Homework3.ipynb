{
 "cells": [
  {
   "cell_type": "markdown",
   "id": "782dfb9f-b24b-4025-b7fa-9c2c880fd39d",
   "metadata": {},
   "source": [
    "## Homework 2\n"
   ]
  },
  {
   "cell_type": "markdown",
   "id": "c72929f4-b0da-4c3b-88b5-30ce48d4be44",
   "metadata": {},
   "source": [
    "### Task 1\n",
    "\n",
    "- Create a list with the first names of your breakout room group, and assign this to the variable `first_names`. Print the list.\n",
    "- Print out the value of the second name in `first_names`. (Hint: use the bracket notation asa with strings.)\n",
    "- Print the length of the list of names.\n",
    "- Create a slice of the list containing the first two names and print this slice."
   ]
  },
  {
   "cell_type": "code",
   "execution_count": null,
   "id": "5bb122d3-946e-4970-a628-4706ea2defc1",
   "metadata": {},
   "outputs": [],
   "source": []
  },
  {
   "cell_type": "markdown",
   "id": "dd638add-88ac-4e7b-ab46-ba1150b37a5e",
   "metadata": {},
   "source": [
    "### Task 2 - Appending and removing elements from a list\n",
    "\n",
    "There are several methods that you can use with lists. The `.append()` method adds an item to a list, while the `.remove()` method removes an item from the list:\n",
    "\n",
    "```py\n",
    "fruits = ['apple','banana','orange']\n",
    "fruits.append('mango')\n",
    "# value of fruits is now: ['apple','banana','orange','mango']\n",
    "fruits.remove('banana')\n",
    "# value of fruits is now: ['apple','orange','mango']\n",
    "```\n",
    "\n",
    "- Using the list of your names (`first_names`), add one name and print the list.\n",
    "- Using the list of your names (`first_names`), remove one name and print the list."
   ]
  },
  {
   "cell_type": "code",
   "execution_count": null,
   "id": "2b796072-536a-45dd-aa4b-7213bc0252e3",
   "metadata": {},
   "outputs": [],
   "source": []
  },
  {
   "cell_type": "markdown",
   "id": "3fd37aa8-96a7-46a5-bd38-35d77311536f",
   "metadata": {},
   "source": [
    "### Task 3 - Dictionaries\n",
    "\n",
    "- Create a dictionary called `person` with the keys `first_name` amd `last_name` and give them some values. Print out the dictionary.\n",
    "- In the `person` dictionary, assign the `job` key to the value `programmer`, and print out the dictionary.\n",
    "- Access and print out the value of the `first_name` key in the `person` dictionary.\n",
    "- Print out the keys, values, and items in the `person` dictionary."
   ]
  },
  {
   "cell_type": "code",
   "execution_count": null,
   "id": "998059af-7a3c-48b6-9257-eb785201f041",
   "metadata": {},
   "outputs": [],
   "source": []
  },
  {
   "cell_type": "markdown",
   "id": "fcf098b3-7dd0-4844-a094-710b8c906d75",
   "metadata": {},
   "source": [
    "\n",
    "### Task 4 - Booleans\n",
    "\n",
    "- Create a variable called `boolean_var` and set it to `False`.\n",
    "- Print the value of the opposite of `boolean_var` (using `not`)."
   ]
  },
  {
   "cell_type": "code",
   "execution_count": null,
   "id": "3a312406-5737-4e25-8609-91ba0625eb88",
   "metadata": {},
   "outputs": [],
   "source": []
  },
  {
   "cell_type": "markdown",
   "id": "aa56f8e9",
   "metadata": {},
   "source": [
    "### Task 5 - Tuples"
   ]
  },
  {
   "cell_type": "markdown",
   "id": "9af809c3",
   "metadata": {},
   "source": []
  }
 ],
 "metadata": {
  "kernelspec": {
   "display_name": "Python 3 (ipykernel)",
   "language": "python",
   "name": "python3"
  },
  "language_info": {
   "codemirror_mode": {
    "name": "ipython",
    "version": 3
   },
   "file_extension": ".py",
   "mimetype": "text/x-python",
   "name": "python",
   "nbconvert_exporter": "python",
   "pygments_lexer": "ipython3",
   "version": "3.9.7"
  },
  "vscode": {
   "interpreter": {
    "hash": "916dbcbb3f70747c44a77c7bcd40155683ae19c65e1c03b4aa3499c5328201f1"
   }
  }
 },
 "nbformat": 4,
 "nbformat_minor": 5
}
