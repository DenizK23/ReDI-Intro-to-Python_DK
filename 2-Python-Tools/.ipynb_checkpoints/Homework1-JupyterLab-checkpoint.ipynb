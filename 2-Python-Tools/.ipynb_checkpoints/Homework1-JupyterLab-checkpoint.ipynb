{
 "cells": [
  {
   "cell_type": "markdown",
   "id": "8d44c10e",
   "metadata": {},
   "source": [
    "### Task 1\n",
    "Create a markdown cell below and give a title as Homework1 - yourname "
   ]
  },
  {
   "cell_type": "markdown",
   "id": "dce947ac",
   "metadata": {},
   "source": [
    "### Task 2 \n",
    "Run the below cell and check the outcome. Note: to run a cell, click to cell and Shift + Enter"
   ]
  },
  {
   "cell_type": "code",
   "execution_count": null,
   "id": "a47b4f74-9853-464b-861f-4b9d62fe07fd",
   "metadata": {
    "tags": []
   },
   "outputs": [],
   "source": [
    "print(\"Hello Intro to Computer Science\")"
   ]
  },
  {
   "cell_type": "markdown",
   "id": "15d8c5eb",
   "metadata": {},
   "source": [
    "### Task 3 \n",
    "Create a code cell and write print statement with your name as a string"
   ]
  },
  {
   "cell_type": "code",
   "execution_count": null,
   "id": "dec8667e-3ea6-4064-94ab-e07862be9494",
   "metadata": {},
   "outputs": [],
   "source": []
  },
  {
   "cell_type": "markdown",
   "id": "36eba1b8",
   "metadata": {},
   "source": [
    "### Task 4\n",
    "Assing your name to a variable which is called myname, then print the variable\n"
   ]
  },
  {
   "cell_type": "code",
   "execution_count": null,
   "id": "b9d4b93c",
   "metadata": {},
   "outputs": [],
   "source": []
  },
  {
   "cell_type": "markdown",
   "id": "c4769a69",
   "metadata": {},
   "source": [
    "### Task 5\n",
    "Write a print statement which prints \"Hello, yourname\" by combining string and variable"
   ]
  },
  {
   "cell_type": "code",
   "execution_count": null,
   "id": "01a807d5-8849-44ee-b6be-5bcd09032c55",
   "metadata": {},
   "outputs": [],
   "source": []
  },
  {
   "cell_type": "markdown",
   "id": "5aba3207",
   "metadata": {},
   "source": [
    "### Task 6\n",
    "\n",
    "Run all the cells in the order.\n",
    "Move the order of the cells, and try to run them again.\n",
    "What is your observation? "
   ]
  }
 ],
 "metadata": {
  "kernelspec": {
   "display_name": "Python 3 (ipykernel)",
   "language": "python",
   "name": "python3"
  },
  "language_info": {
   "codemirror_mode": {
    "name": "ipython",
    "version": 3
   },
   "file_extension": ".py",
   "mimetype": "text/x-python",
   "name": "python",
   "nbconvert_exporter": "python",
   "pygments_lexer": "ipython3",
   "version": "3.11.3"
  }
 },
 "nbformat": 4,
 "nbformat_minor": 5
}
